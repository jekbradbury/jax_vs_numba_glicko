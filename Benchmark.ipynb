{
 "cells": [
  {
   "cell_type": "code",
   "execution_count": 1,
   "metadata": {},
   "outputs": [
    {
     "name": "stderr",
     "output_type": "stream",
     "text": [
      "/anaconda2/envs/py37/lib/python3.7/site-packages/jax/lib/xla_bridge.py:130: UserWarning: No GPU/TPU found, falling back to CPU.\n",
      "  warnings.warn('No GPU/TPU found, falling back to CPU.')\n"
     ]
    }
   ],
   "source": [
    "import glicko_numba as gn\n",
    "import glicko_jax as gj\n",
    "import numpy as np"
   ]
  },
  {
   "cell_type": "code",
   "execution_count": 2,
   "metadata": {},
   "outputs": [],
   "source": [
    "def generate_random_observations():\n",
    "    \n",
    "    # Draw a random number of opponents\n",
    "    num_opponents = np.random.randint(1, 5)\n",
    "    \n",
    "    # Draw a random number of matches played against each opponent\n",
    "    n_j = np.array([np.random.randint(1, 5) for x in range(num_opponents)])\n",
    "    \n",
    "    # Draw random mean for each opponent\n",
    "    mu_j = np.array([np.random.normal(loc=1500., scale=50) for x in range(num_opponents)])\n",
    "    \n",
    "    # Draw random variances for each opponent\n",
    "    sigma_j_sq = np.array([np.random.normal(loc=20, scale=5)**2 for x in range(num_opponents)])\n",
    "    \n",
    "    # Draw random outcomes (win/loss) for each opponent\n",
    "    s_jk = [np.random.randint(low=0, high=2, size=x) for x in n_j]\n",
    "    \n",
    "    return n_j, mu_j, sigma_j_sq, s_jk"
   ]
  },
  {
   "cell_type": "code",
   "execution_count": 3,
   "metadata": {},
   "outputs": [
    {
     "data": {
      "text/plain": [
       "(DeviceArray(1401.9182, dtype=float32), DeviceArray(17792.791, dtype=float32))"
      ]
     },
     "execution_count": 3,
     "metadata": {},
     "output_type": "execute_result"
    }
   ],
   "source": [
    "mu = np.array(1500.)\n",
    "sigma_sq = np.array(100.**2)\n",
    "\n",
    "# Give both methods a warmup to get jit going\n",
    "n_j, mu_j, sigma_j_sq, s_jk = generate_random_observations()\n",
    "gn.calculate_approximate_likelihood(mu, sigma_sq, n_j, mu_j, sigma_j_sq, s_jk)\n",
    "gj.calculate_approximate_likelihood(mu, sigma_sq, n_j, mu_j, sigma_j_sq, s_jk)"
   ]
  },
  {
   "cell_type": "code",
   "execution_count": 4,
   "metadata": {},
   "outputs": [
    {
     "name": "stdout",
     "output_type": "stream",
     "text": [
      "CPU times: user 103 ms, sys: 4.67 ms, total: 107 ms\n",
      "Wall time: 108 ms\n"
     ]
    }
   ],
   "source": [
    "%%time\n",
    "\n",
    "for i in range(1000):\n",
    "    n_j, mu_j, sigma_j_sq, s_jk = generate_random_observations()\n",
    "    gn.calculate_approximate_likelihood(mu, sigma_sq, n_j, mu_j, sigma_j_sq, s_jk)\n",
    "\n"
   ]
  },
  {
   "cell_type": "code",
   "execution_count": 5,
   "metadata": {},
   "outputs": [
    {
     "name": "stdout",
     "output_type": "stream",
     "text": [
      "CPU times: user 3.32 s, sys: 517 ms, total: 3.83 s\n",
      "Wall time: 3.03 s\n"
     ]
    }
   ],
   "source": [
    "%%time\n",
    "for i in range(1000):\n",
    "    n_j, mu_j, sigma_j_sq, s_jk = generate_random_observations()\n",
    "    gj.calculate_approximate_likelihood(mu, sigma_sq, n_j, mu_j, sigma_j_sq, s_jk)\n"
   ]
  },
  {
   "cell_type": "code",
   "execution_count": null,
   "metadata": {},
   "outputs": [],
   "source": []
  }
 ],
 "metadata": {
  "kernelspec": {
   "display_name": "Python 3",
   "language": "python",
   "name": "python3"
  },
  "language_info": {
   "codemirror_mode": {
    "name": "ipython",
    "version": 3
   },
   "file_extension": ".py",
   "mimetype": "text/x-python",
   "name": "python",
   "nbconvert_exporter": "python",
   "pygments_lexer": "ipython3",
   "version": "3.7.3"
  }
 },
 "nbformat": 4,
 "nbformat_minor": 2
}
